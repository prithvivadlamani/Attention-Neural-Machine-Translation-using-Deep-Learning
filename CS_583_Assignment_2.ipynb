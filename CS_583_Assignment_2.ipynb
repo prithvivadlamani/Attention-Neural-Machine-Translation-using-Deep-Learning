{
  "nbformat": 4,
  "nbformat_minor": 0,
  "metadata": {
    "colab": {
      "provenance": []
    },
    "kernelspec": {
      "name": "python3",
      "display_name": "Python 3"
    },
    "language_info": {
      "name": "python"
    }
  },
  "cells": [
    {
      "cell_type": "code",
      "execution_count": 33,
      "metadata": {
        "id": "60yFdE_d09WW"
      },
      "outputs": [],
      "source": [
        "import numpy as np\n",
        "import tensorflow as tf\n",
        "from tensorflow import keras\n",
        "from tensorflow.keras.models import Model\n",
        "from tensorflow.keras.layers import Input, LSTM, Dense\n",
        "from tensorflow.keras.preprocessing.text import Tokenizer"
      ]
    },
    {
      "cell_type": "code",
      "source": [
        "def preprocessing(data_path):    \n",
        "    raw_data = [[], []]\n",
        "\n",
        "    with open(data_path) as file:\n",
        "        lines = file.readlines()\n",
        "\n",
        "        for line in lines:\n",
        "            data_x, data_y = line.split(\" \")\n",
        "            raw_data[0].append(data_x)\n",
        "            raw_data[1].append(data_y[:-1])\n",
        "\n",
        "    raw_data = np.array(raw_data)\n",
        "    # print(raw_data.shape)\n",
        "\n",
        "    data_x = raw_data[0]\n",
        "    data_y = raw_data[1]\n",
        "    data = np.append(data_x, data_y)\n",
        "    # print(len(data))\n",
        "\n",
        "    input_characters = []\n",
        "    output_characters = []\n",
        "\n",
        "    for x in data_x:\n",
        "        for char in x:\n",
        "            if char not in input_characters and char not in [\" \"]:\n",
        "                input_characters.append(char)\n",
        "\n",
        "    for y in data_y:\n",
        "        for char in y:\n",
        "            if char not in output_characters and char not in [\" \"]:\n",
        "                output_characters.append(char)\n",
        "\n",
        "    input_characters = sorted(input_characters)\n",
        "    output_characters = sorted(output_characters)\n",
        "\n",
        "    input_data = np.zeros((len(data_x), max([len(txt) for txt in data_x]), len(input_characters)), dtype = \"float32\")\n",
        "    decoder_input_data = np.zeros((len(data_y), max([len(txt) for txt in data_y]), len(output_characters)), dtype = \"float32\")\n",
        "    output_data = np.zeros((len(data_y), max([len(txt) for txt in data_y]), len(output_characters)), dtype = \"float32\")\n",
        "\n",
        "    input_char_ind = dict([(char, i) for i, char in enumerate(input_characters)])\n",
        "    output_char_ind = dict([(char, i) for i, char in enumerate(output_characters)])\n",
        "\n",
        "    for i, (input_text, target_text) in enumerate(zip(data_x, data_y)):\n",
        "        for t, char in enumerate(input_text):\n",
        "            input_data[i, t, input_char_ind[char]] = 1.0\n",
        "        for t, char in enumerate(target_text):\n",
        "            decoder_input_data[i, t, output_char_ind[char]] = 1.0\n",
        "            if t > 0:\n",
        "                output_data[i, t - 1, output_char_ind[char]] = 1.0\n",
        "\n",
        "    train_length = int(len(input_data)*0.8)\n",
        "\n",
        "    train_input_data = input_data[:train_length]\n",
        "    train_decoder_input_data = decoder_input_data[:train_length]\n",
        "    train_output_data = output_data[:train_length]\n",
        "\n",
        "    test_input_data = input_data[train_length:]\n",
        "    test_decoder_input_data = decoder_input_data[train_length:]\n",
        "    test_output_data = output_data[train_length:]\n",
        "\n",
        "    return train_input_data, train_decoder_input_data, train_output_data, test_input_data, test_decoder_input_data, test_output_data, input_characters, output_characters\n",
        "\n",
        "\n"
      ],
      "metadata": {
        "id": "hUtHhTh42_B1"
      },
      "execution_count": 34,
      "outputs": []
    },
    {
      "cell_type": "code",
      "source": [
        "train_input_data, train_decoder_input_data, train_output_data, test_input_data, test_decoder_input_data, test_output_data, input_characters, output_characters = preprocessing(\"data.txt\")"
      ],
      "metadata": {
        "id": "p_COkr7A5UON"
      },
      "execution_count": 35,
      "outputs": []
    },
    {
      "cell_type": "code",
      "source": [
        "def lstm2_model(input_characters, output_characters):\n",
        "    # Define an input sequence and process it.\n",
        "    encoder_inputs = keras.Input(shape=(None, len(input_characters)))\n",
        "    encoder = keras.layers.LSTM(128, return_state=True)\n",
        "    encoder_outputs, state_h, state_c = encoder(encoder_inputs)\n",
        "\n",
        "    # We discard `encoder_outputs` and only keep the states.\n",
        "    encoder_states = [state_h, state_c]\n",
        "\n",
        "    # Set up the decoder, using `encoder_states` as initial state.\n",
        "    decoder_inputs = keras.Input(shape=(None, len(output_characters)))\n",
        "\n",
        "    # We set up our decoder to return full output sequences,\n",
        "    # and to return internal states as well. We don't use the\n",
        "    # return states in the training model, but we will use them in inference.\n",
        "    decoder_lstm = keras.layers.LSTM(128, return_sequences=True, return_state=True)\n",
        "    decoder_outputs, _, _ = decoder_lstm(decoder_inputs, initial_state=encoder_states)\n",
        "    decoder_dense = keras.layers.Dense(len(output_characters), activation=\"softmax\")\n",
        "    decoder_outputs = decoder_dense(decoder_outputs)\n",
        "\n",
        "    # Define the model that will turn\n",
        "    # `encoder_input_data` & `decoder_input_data` into `decoder_target_data`\n",
        "    model = keras.Model([encoder_inputs, decoder_inputs], decoder_outputs)\n",
        "\n",
        "    model.compile(\n",
        "        optimizer=\"rmsprop\", loss=\"categorical_crossentropy\", metrics=[\"accuracy\"]\n",
        "    )\n",
        "\n",
        "    return model"
      ],
      "metadata": {
        "id": "wo6mLCNI5aVq"
      },
      "execution_count": 36,
      "outputs": []
    },
    {
      "cell_type": "code",
      "source": [
        "def lstm_model(input_characters, output_characters):\n",
        "    # Define an input sequence and process it.\n",
        "    encoder_inputs = keras.Input(shape=(None, len(input_characters)))\n",
        "    encoder = keras.layers.SimpleRNN(128, return_state=True, activation = 'tanh')\n",
        "    encoder_outputs, state = encoder(encoder_inputs)\n",
        "\n",
        "    encoder_states = [state]\n",
        "\n",
        "    decoder_inputs = keras.Input(shape=(None, len(output_characters)))\n",
        "\n",
        "    decoder_lstm = keras.layers.SimpleRNN(128, return_sequences=True, return_state=True, activation = 'tanh')\n",
        "    decoder_outputs, _= decoder_lstm(decoder_inputs, initial_state=encoder_states)\n",
        "    decoder_dense = keras.layers.Dense(len(output_characters), activation=\"softmax\")\n",
        "    decoder_outputs = decoder_dense(decoder_outputs)\n",
        "\n",
        "    model = keras.Model([encoder_inputs, decoder_inputs], decoder_outputs)\n",
        "\n",
        "    model.compile(\n",
        "        optimizer=\"adam\", loss=\"categorical_crossentropy\", metrics=[\"accuracy\"]\n",
        "    )\n",
        "\n",
        "    return model"
      ],
      "metadata": {
        "id": "LAJU0qPV5gOi"
      },
      "execution_count": 37,
      "outputs": []
    },
    {
      "cell_type": "code",
      "source": [
        "def train_model(model, train_input_data, train_decoder_input_data, train_output_data):       \n",
        "    model.fit(\n",
        "        [train_input_data, train_decoder_input_data],\n",
        "        train_output_data,\n",
        "        batch_size=64,\n",
        "        epochs=20,\n",
        "        validation_split=0.2,\n",
        "    )"
      ],
      "metadata": {
        "id": "ntZdpIxO5kOp"
      },
      "execution_count": 38,
      "outputs": []
    },
    {
      "cell_type": "code",
      "source": [
        "def evaluate_model(model, test_input_data, test_decoder_input_data, test_output_data):\n",
        "    encoder_loss, decoder_loss = model.evaluate([test_input_data, test_decoder_input_data], test_output_data)\n",
        "\n",
        "    return encoder_loss, decoder_loss"
      ],
      "metadata": {
        "id": "16f9qvRP5nH-"
      },
      "execution_count": 39,
      "outputs": []
    },
    {
      "cell_type": "code",
      "source": [
        "model = lstm_model(input_characters, output_characters)\n",
        "train_model(model, train_input_data, train_decoder_input_data, train_output_data)\n",
        "encoder1_loss, decoder1_loss = evaluate_model(model, test_input_data, test_decoder_input_data, test_output_data)"
      ],
      "metadata": {
        "colab": {
          "base_uri": "https://localhost:8080/"
        },
        "id": "90Mt8hxg5p1r",
        "outputId": "67ca5e79-35b0-428c-b8ca-c9fb412ebe49"
      },
      "execution_count": 40,
      "outputs": [
        {
          "output_type": "stream",
          "name": "stdout",
          "text": [
            "Epoch 1/20\n",
            "66/66 [==============================] - 3s 30ms/step - loss: 1.2458 - accuracy: 0.0725 - val_loss: 1.2210 - val_accuracy: 0.0612\n",
            "Epoch 2/20\n",
            "66/66 [==============================] - 2s 26ms/step - loss: 1.2192 - accuracy: 0.0732 - val_loss: 1.2283 - val_accuracy: 0.0780\n",
            "Epoch 3/20\n",
            "66/66 [==============================] - 2s 26ms/step - loss: 1.2336 - accuracy: 0.0768 - val_loss: 1.2418 - val_accuracy: 0.0745\n",
            "Epoch 4/20\n",
            "66/66 [==============================] - 2s 27ms/step - loss: 1.2415 - accuracy: 0.0678 - val_loss: 1.2436 - val_accuracy: 0.0625\n",
            "Epoch 5/20\n",
            "66/66 [==============================] - 2s 26ms/step - loss: 1.2425 - accuracy: 0.0627 - val_loss: 1.2458 - val_accuracy: 0.0633\n",
            "Epoch 6/20\n",
            "66/66 [==============================] - 2s 27ms/step - loss: 1.2430 - accuracy: 0.0622 - val_loss: 1.2447 - val_accuracy: 0.0622\n",
            "Epoch 7/20\n",
            "66/66 [==============================] - 2s 26ms/step - loss: 1.2423 - accuracy: 0.0620 - val_loss: 1.2436 - val_accuracy: 0.0623\n",
            "Epoch 8/20\n",
            "66/66 [==============================] - 2s 26ms/step - loss: 1.2408 - accuracy: 0.0622 - val_loss: 1.2446 - val_accuracy: 0.0626\n",
            "Epoch 9/20\n",
            "66/66 [==============================] - 2s 26ms/step - loss: 1.2401 - accuracy: 0.0625 - val_loss: 1.2453 - val_accuracy: 0.0631\n",
            "Epoch 10/20\n",
            "66/66 [==============================] - 2s 26ms/step - loss: 1.2395 - accuracy: 0.0633 - val_loss: 1.2382 - val_accuracy: 0.0638\n",
            "Epoch 11/20\n",
            "66/66 [==============================] - 2s 26ms/step - loss: 1.2347 - accuracy: 0.0643 - val_loss: 1.2386 - val_accuracy: 0.0648\n",
            "Epoch 12/20\n",
            "66/66 [==============================] - 2s 26ms/step - loss: 1.2328 - accuracy: 0.0667 - val_loss: 1.2360 - val_accuracy: 0.0657\n",
            "Epoch 13/20\n",
            "66/66 [==============================] - 2s 25ms/step - loss: 1.2350 - accuracy: 0.0656 - val_loss: 1.2431 - val_accuracy: 0.0627\n",
            "Epoch 14/20\n",
            "66/66 [==============================] - 2s 27ms/step - loss: 1.2407 - accuracy: 0.0629 - val_loss: 1.2423 - val_accuracy: 0.0630\n",
            "Epoch 15/20\n",
            "66/66 [==============================] - 2s 26ms/step - loss: 1.2390 - accuracy: 0.0626 - val_loss: 1.2413 - val_accuracy: 0.0630\n",
            "Epoch 16/20\n",
            "66/66 [==============================] - 2s 26ms/step - loss: 1.2379 - accuracy: 0.0626 - val_loss: 1.2383 - val_accuracy: 0.0630\n",
            "Epoch 17/20\n",
            "66/66 [==============================] - 2s 26ms/step - loss: 1.2369 - accuracy: 0.0628 - val_loss: 1.2368 - val_accuracy: 0.0631\n",
            "Epoch 18/20\n",
            "66/66 [==============================] - 2s 26ms/step - loss: 1.2360 - accuracy: 0.0630 - val_loss: 1.2376 - val_accuracy: 0.0636\n",
            "Epoch 19/20\n",
            "66/66 [==============================] - 2s 26ms/step - loss: 1.2354 - accuracy: 0.0633 - val_loss: 1.2347 - val_accuracy: 0.0635\n",
            "Epoch 20/20\n",
            "66/66 [==============================] - 2s 26ms/step - loss: 1.2341 - accuracy: 0.0647 - val_loss: 1.2353 - val_accuracy: 0.0641\n",
            "41/41 [==============================] - 0s 7ms/step - loss: 1.2311 - accuracy: 0.0639\n"
          ]
        }
      ]
    },
    {
      "cell_type": "code",
      "source": [
        "model2 = lstm2_model(input_characters, output_characters)\n",
        "train_model(model2, train_input_data, train_decoder_input_data, train_output_data)\n",
        "encoder2_loss, decoder2_loss = evaluate_model(model2, test_input_data, test_decoder_input_data, test_output_data)"
      ],
      "metadata": {
        "colab": {
          "base_uri": "https://localhost:8080/"
        },
        "id": "L7n7gOsr5sxy",
        "outputId": "d2bc4c89-3230-495d-f98a-897d94df09c9"
      },
      "execution_count": 41,
      "outputs": [
        {
          "output_type": "stream",
          "name": "stdout",
          "text": [
            "Epoch 1/20\n",
            "66/66 [==============================] - 10s 100ms/step - loss: 1.1953 - accuracy: 0.0774 - val_loss: 1.1550 - val_accuracy: 0.0845\n",
            "Epoch 2/20\n",
            "66/66 [==============================] - 6s 87ms/step - loss: 1.1490 - accuracy: 0.0839 - val_loss: 1.2163 - val_accuracy: 0.0713\n",
            "Epoch 3/20\n",
            "66/66 [==============================] - 6s 88ms/step - loss: 1.1305 - accuracy: 0.0896 - val_loss: 1.1503 - val_accuracy: 0.0840\n",
            "Epoch 4/20\n",
            "66/66 [==============================] - 6s 88ms/step - loss: 1.1063 - accuracy: 0.0980 - val_loss: 1.1094 - val_accuracy: 0.0944\n",
            "Epoch 5/20\n",
            "66/66 [==============================] - 9s 131ms/step - loss: 1.0752 - accuracy: 0.1082 - val_loss: 1.0852 - val_accuracy: 0.0962\n",
            "Epoch 6/20\n",
            "66/66 [==============================] - 6s 88ms/step - loss: 1.0429 - accuracy: 0.1192 - val_loss: 1.0085 - val_accuracy: 0.1409\n",
            "Epoch 7/20\n",
            "66/66 [==============================] - 6s 89ms/step - loss: 1.0094 - accuracy: 0.1305 - val_loss: 0.9751 - val_accuracy: 0.1475\n",
            "Epoch 8/20\n",
            "66/66 [==============================] - 6s 87ms/step - loss: 0.9846 - accuracy: 0.1382 - val_loss: 1.0493 - val_accuracy: 0.1102\n",
            "Epoch 9/20\n",
            "66/66 [==============================] - 6s 88ms/step - loss: 0.9624 - accuracy: 0.1455 - val_loss: 0.9790 - val_accuracy: 0.1394\n",
            "Epoch 10/20\n",
            "66/66 [==============================] - 6s 89ms/step - loss: 0.9344 - accuracy: 0.1551 - val_loss: 0.9451 - val_accuracy: 0.1527\n",
            "Epoch 11/20\n",
            "66/66 [==============================] - 6s 88ms/step - loss: 0.9068 - accuracy: 0.1649 - val_loss: 0.9029 - val_accuracy: 0.1656\n",
            "Epoch 12/20\n",
            "66/66 [==============================] - 6s 87ms/step - loss: 0.8893 - accuracy: 0.1691 - val_loss: 0.8598 - val_accuracy: 0.1836\n",
            "Epoch 13/20\n",
            "66/66 [==============================] - 6s 89ms/step - loss: 0.8606 - accuracy: 0.1798 - val_loss: 0.8904 - val_accuracy: 0.1648\n",
            "Epoch 14/20\n",
            "66/66 [==============================] - 6s 88ms/step - loss: 0.8456 - accuracy: 0.1830 - val_loss: 0.8631 - val_accuracy: 0.1785\n",
            "Epoch 15/20\n",
            "66/66 [==============================] - 6s 89ms/step - loss: 0.8229 - accuracy: 0.1907 - val_loss: 0.8282 - val_accuracy: 0.1866\n",
            "Epoch 16/20\n",
            "66/66 [==============================] - 6s 88ms/step - loss: 0.8033 - accuracy: 0.1962 - val_loss: 0.8964 - val_accuracy: 0.1601\n",
            "Epoch 17/20\n",
            "66/66 [==============================] - 6s 87ms/step - loss: 0.7885 - accuracy: 0.2014 - val_loss: 0.8978 - val_accuracy: 0.1593\n",
            "Epoch 18/20\n",
            "66/66 [==============================] - 6s 88ms/step - loss: 0.7722 - accuracy: 0.2066 - val_loss: 0.7888 - val_accuracy: 0.1851\n",
            "Epoch 19/20\n",
            "66/66 [==============================] - 6s 88ms/step - loss: 0.7595 - accuracy: 0.2096 - val_loss: 0.8726 - val_accuracy: 0.1652\n",
            "Epoch 20/20\n",
            "66/66 [==============================] - 6s 87ms/step - loss: 0.7450 - accuracy: 0.2144 - val_loss: 0.7841 - val_accuracy: 0.2018\n",
            "41/41 [==============================] - 1s 22ms/step - loss: 0.7825 - accuracy: 0.1992\n"
          ]
        }
      ]
    },
    {
      "cell_type": "code",
      "source": [
        "print(\"------------------------------LSTM MODEL OUTPUT------------------------------\")\n",
        "print(encoder1_loss, decoder1_loss)"
      ],
      "metadata": {
        "colab": {
          "base_uri": "https://localhost:8080/"
        },
        "id": "h5t1aLk_55kU",
        "outputId": "e0b9a881-1126-4a4d-ef2e-19f2a41fbfdf"
      },
      "execution_count": 42,
      "outputs": [
        {
          "output_type": "stream",
          "name": "stdout",
          "text": [
            "------------------------------LSTM MODEL OUTPUT------------------------------\n",
            "1.2310974597930908 0.06387358158826828\n"
          ]
        }
      ]
    },
    {
      "cell_type": "code",
      "source": [
        "print(\"------------------------------RNN MODEL OUTPUT------------------------------\")\n",
        "print(encoder2_loss, decoder2_loss)"
      ],
      "metadata": {
        "colab": {
          "base_uri": "https://localhost:8080/"
        },
        "id": "ZUaTR6T36cDP",
        "outputId": "310219c6-a589-452b-9827-22229cba6979"
      },
      "execution_count": 43,
      "outputs": [
        {
          "output_type": "stream",
          "name": "stdout",
          "text": [
            "------------------------------RNN MODEL OUTPUT------------------------------\n",
            "0.7825456857681274 0.199155792593956\n"
          ]
        }
      ]
    },
    {
      "cell_type": "code",
      "source": [],
      "metadata": {
        "id": "LfPPzXQn6kYf"
      },
      "execution_count": 43,
      "outputs": []
    }
  ]
}